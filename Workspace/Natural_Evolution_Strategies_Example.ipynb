{
 "cells": [
  {
   "cell_type": "code",
   "execution_count": 16,
   "metadata": {},
   "outputs": [
    {
     "name": "stdout",
     "output_type": "stream",
     "text": [
      "iter 0. w: [-0.24698585  1.30580815  0.67329242], solution: [ 0.5  0.1 -0.3], reward: -2.959259\n",
      "iter 20. w: [-0.16284468  1.17202958  0.5606038 ], solution: [ 0.5  0.1 -0.3], reward: -2.329249\n",
      "iter 40. w: [-0.07899048  1.03274563  0.44787205], solution: [ 0.5  0.1 -0.3], reward: -1.764557\n",
      "iter 60. w: [0.00931179 0.90124559 0.3425777 ], solution: [ 0.5  0.1 -0.3], reward: -1.295676\n",
      "iter 80. w: [0.0968119  0.76291701 0.22995821], solution: [ 0.5  0.1 -0.3], reward: -0.882875\n",
      "iter 100. w: [0.18019401 0.61013542 0.129085  ], solution: [ 0.5  0.1 -0.3], reward: -0.546628\n",
      "iter 120. w: [0.26248082 0.46936003 0.012722  ], solution: [ 0.5  0.1 -0.3], reward: -0.290637\n",
      "iter 140. w: [ 0.34445169  0.33505541 -0.089466  ], solution: [ 0.5  0.1 -0.3], reward: -0.123771\n",
      "iter 160. w: [ 0.42114351  0.21879481 -0.20889024], solution: [ 0.5  0.1 -0.3], reward: -0.028632\n",
      "iter 180. w: [ 0.46928359  0.13442792 -0.2776589 ], solution: [ 0.5  0.1 -0.3], reward: -0.002628\n",
      "iter 200. w: [ 0.48535004  0.1091224  -0.29888462], solution: [ 0.5  0.1 -0.3], reward: -0.000299\n",
      "iter 220. w: [ 0.49269893  0.09588177 -0.29177171], solution: [ 0.5  0.1 -0.3], reward: -0.000138\n",
      "iter 240. w: [ 0.49897148  0.08649563 -0.30726637], solution: [ 0.5  0.1 -0.3], reward: -0.000236\n",
      "iter 260. w: [ 0.49718766  0.09758629 -0.30845582], solution: [ 0.5  0.1 -0.3], reward: -0.000085\n",
      "iter 280. w: [ 0.50131194  0.10606371 -0.30757055], solution: [ 0.5  0.1 -0.3], reward: -0.000096\n"
     ]
    }
   ],
   "source": [
    "\"\"\"\n",
    "A bare bones examples of optimizing a black-box function (f) using\n",
    "Natural Evolution Strategies (NES), where the parameter distribution is a \n",
    "gaussian of fixed standard deviation.\n",
    "\"\"\"\n",
    "\n",
    "import numpy as np\n",
    "#np.random.seed(0)\n",
    "\n",
    "# the function we want to optimize\n",
    "def f(w):\n",
    "  # here we would normally:\n",
    "  # ... 1) create a neural network with weights w\n",
    "  # ... 2) run the neural network on the environment for some time\n",
    "  # ... 3) sum up and return the total reward\n",
    "\n",
    "  # but for the purposes of an example, lets try to minimize\n",
    "  # the L2 distance to a specific solution vector. So the highest reward\n",
    "  # we can achieve is 0, when the vector w is exactly equal to solution\n",
    "  reward = -np.sum(np.square(solution - w))\n",
    "  return reward\n",
    "\n",
    "# hyperparameters\n",
    "npop = 50 # population size\n",
    "sigma = 0.1 # noise standard deviation\n",
    "alpha = 0.001 # learning rate\n",
    "\n",
    "# initialze the optimization\n",
    "solution = np.array([0.5, 0.1, -0.3])\n",
    "w = np.random.randn(3) # our initial guess is random\n",
    "\n",
    "# start the optimization\n",
    "for i in range(300):\n",
    "\n",
    "  # print current fitness of the most likely parameter setting\n",
    "  if i % 20 == 0:\n",
    "    print('iter %d. w: %s, solution: %s, reward: %f' % (i, str(w), str(solution), f(w)))\n",
    "\n",
    "  # initialize memory for a population of w's, and their rewards\n",
    "  N = np.random.randn(npop, 3) # samples from a normal distribution N(0,1)\n",
    "  R = np.zeros(npop)\n",
    "  for j in range(npop):\n",
    "    w_try = w + sigma*N[j] # jitter w using gaussian of sigma 0.1\n",
    "    R[j] = f(w_try) # evaluate the jittered version\n",
    "\n",
    "  # standardize the rewards to have a gaussian distribution\n",
    "  A = (R - np.mean(R)) / np.std(R)\n",
    "    \n",
    "  # perform the parameter update. The matrix multiply below\n",
    "  # is just an efficient way to sum up all the rows of the noise matrix N,\n",
    "  # where each row N[j] is weighted by A[j]\n",
    "  w = w + alpha/(npop*sigma) * np.dot(N.T, A)"
   ]
  },
  {
   "cell_type": "code",
   "execution_count": 18,
   "metadata": {},
   "outputs": [
    {
     "data": {
      "text/plain": [
       "0.01"
      ]
     },
     "execution_count": 18,
     "metadata": {},
     "output_type": "execute_result"
    }
   ],
   "source": [
    " alpha/sigma"
   ]
  },
  {
   "cell_type": "code",
   "execution_count": null,
   "metadata": {},
   "outputs": [],
   "source": []
  }
 ],
 "metadata": {
  "kernelspec": {
   "display_name": "Python 3",
   "language": "python",
   "name": "python3"
  },
  "language_info": {
   "codemirror_mode": {
    "name": "ipython",
    "version": 3
   },
   "file_extension": ".py",
   "mimetype": "text/x-python",
   "name": "python",
   "nbconvert_exporter": "python",
   "pygments_lexer": "ipython3",
   "version": "3.7.3"
  }
 },
 "nbformat": 4,
 "nbformat_minor": 2
}
