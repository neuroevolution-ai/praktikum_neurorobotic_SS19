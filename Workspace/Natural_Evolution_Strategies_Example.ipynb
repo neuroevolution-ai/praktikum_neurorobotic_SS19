{
 "cells": [
  {
   "cell_type": "code",
   "execution_count": null,
   "metadata": {},
   "outputs": [],
   "source": [
    "\"\"\"\n",
    "A bare bones examples of optimizing a black-box function (f) using\n",
    "Natural Evolution Strategies (NES), where the parameter distribution is a \n",
    "gaussian of fixed standard deviation.\n",
    "\"\"\"\n",
    "\n",
    "import numpy as np\n",
    "#np.random.seed(0)\n",
    "\n",
    "# the function we want to optimize\n",
    "def f(w):\n",
    "  # here we would normally:\n",
    "  # ... 1) create a neural network with weights w\n",
    "  # ... 2) run the neural network on the environment for some time\n",
    "  # ... 3) sum up and return the total reward\n",
    "\n",
    "  # but for the purposes of an example, lets try to minimize\n",
    "  # the L2 distance to a specific solution vector. So the highest reward\n",
    "  # we can achieve is 0, when the vector w is exactly equal to solution\n",
    "  reward = -np.sum(np.square(solution - w))\n",
    "  return reward\n",
    "\n",
    "# hyperparameters\n",
    "npop = 50 # population size\n",
    "sigma = 0.1 # noise standard deviation\n",
    "alpha = 0.001 # learning rate\n",
    "\n",
    "# initialze the optimization\n",
    "solution = np.array([0.5, 0.1, -0.3])\n",
    "w = np.random.randn(3) # our initial guess is random\n",
    "\n",
    "# start the optimization\n",
    "for i in range(300):\n",
    "\n",
    "  # print current fitness of the most likely parameter setting\n",
    "  if i % 1 == 0:\n",
    "    print('iter %d. w: %s, solution: %s, reward: %f' % (i, str(w), str(solution), f(w)))\n",
    "\n",
    "  # initialize memory for a population of w's, and their rewards\n",
    "  N = np.random.randn(npop, 3) # samples from a normal distribution N(0,1)\n",
    "  R = np.zeros(npop)\n",
    "  for j in range(npop):\n",
    "    w_try = w + sigma*N[j] # jitter w using gaussian of sigma 0.1\n",
    "    R[j] = f(w_try) # evaluate the jittered version\n",
    "\n",
    "  # standardize the rewards to have a gaussian distribution\n",
    "  A = (R - np.mean(R)) / np.std(R)\n",
    "  #A = R\n",
    "    \n",
    "\n",
    "  # perform the parameter update. The matrix multiply below\n",
    "  # is just an efficient way to sum up all the rows of the noise matrix N,\n",
    "  # where each row N[j] is weighted by A[j]\n",
    "  w = w + alpha/(npop*sigma) * np.dot(N.T, A)"
   ]
  },
  {
   "cell_type": "code",
   "execution_count": null,
   "metadata": {},
   "outputs": [],
   "source": [
    " alpha/sigma"
   ]
  },
  {
   "cell_type": "code",
   "execution_count": null,
   "metadata": {},
   "outputs": [],
   "source": []
  }
 ],
 "metadata": {
  "language_info": {
   "name": "python",
   "pygments_lexer": "ipython3"
  }
 },
 "nbformat": 4,
 "nbformat_minor": 2
}
