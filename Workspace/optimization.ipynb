{
 "cells": [
  {
   "cell_type": "markdown",
   "metadata": {},
   "source": [
    "# Neurorobotics with PyNN and PyBullet\n",
    "\n",
    "In this Notebook we will build and execute a neuro-robotics experiment. Für the neural simulation we will use [PyNN](https://neuralensemble.org/PyNN/) and [Nest](https://www.nest-initiative.org/?page=Software). For the simulation of the physic we use [PyBullet](https://github.com/bulletphysics/bullet3/tree/master/examples/pybullet). \n",
    "\n",
    "This experiment is a re-creation of the [braitenberg-husky-experiment](https://bitbucket.org/hbpneurorobotics/experiments/src/development/braitenberg_husky/) in the neurorobotics plattform of the human brain project. "
   ]
  },
  {
   "cell_type": "markdown",
   "metadata": {},
   "source": [
    "We start by importing all modules we will use in this notebook. Make sure to install only python**3**-versions of all dependencies. \n",
    "\n",
    "You can not just install these via pip:\n",
    "\n",
    "- _pybullet_ needs to be installed from source to get numpy-support. Otherwise it will be slower, and getCameraImage doesn't return a numpy-array. \n",
    "- _nest_ can only be installed from source. We must use version 2.16, because the current master is not yet compatible with _pynn_. Also _nest_ is compiled with _libnreuosim_, which needs a workaround until [the PR](https://github.com/nest/nest-simulator/pull/1235) is merged. I'm not 100% certain if _libneurosim_ is even required for this project, but _nest_ gives a warning if it's missing, so we will install it. \n",
    "- there is a warning \"UserWarning: Unable to install NEST extensions. Certain models may not be available\", which doesn't seem to affect this project. Please ignore it. "
   ]
  },
  {
   "cell_type": "code",
   "execution_count": 1,
   "metadata": {},
   "outputs": [],
   "source": [
    "import time\n",
    "import numpy as np\n",
    "import csv\n",
    "import random\n",
    "\n",
    "import subprocess\n",
    "import re\n",
    "\n",
    "from matplotlib import pyplot as plt\n",
    "from matplotlib import animation\n",
    "from pyNN.utility.plotting import Figure, Panel\n",
    "from quantities import mV"
   ]
  },
  {
   "cell_type": "code",
   "execution_count": 2,
   "metadata": {},
   "outputs": [],
   "source": [
    "def isFinished(processes):\n",
    "    \n",
    "    for process in processes:\n",
    "        if(process.poll() == None):\n",
    "            return False\n",
    "    \n",
    "    return True"
   ]
  },
  {
   "cell_type": "code",
   "execution_count": 3,
   "metadata": {},
   "outputs": [
    {
     "name": "stdout",
     "output_type": "stream",
     "text": [
      "Starting\n",
      "[0.009355252427922334, 0.0016593673536640702, 0.0001951361264199021, 0.0009955911862304602]\n",
      "0.5826026370208032\n",
      "[0.0013704662089159291, 0.0003961323051802113, 0.00423946771208724, 0.00010115625056028498]\n",
      "0.4293368323765484\n",
      "[0.0033920476623201983, 0.0008606399452036793, 0.0038706569847886405, 0.002544893908646982]\n",
      "0.27471606897009226\n",
      "Time taken in seconds - 73.84484672546387\n",
      "Time taken in seconds - 74.35172033309937\n",
      "[0.008531327064261574, 0.0007676469457076234, 0.007815988697869166, 0.005686854884066715]\n",
      "0.24418609397952454\n",
      "Time taken in seconds - 73.86934566497803\n",
      "Time taken in seconds - 73.21843028068542\n",
      "Time taken in seconds - 73.86296772956848\n",
      "Finished\n"
     ]
    }
   ],
   "source": [
    "output_min = []\n",
    "error_min =200\n",
    "\n",
    "print(\"Starting\")\n",
    "\n",
    "for N in range(5):\n",
    "    \n",
    "    # Start time measurement\n",
    "    start = time.time()\n",
    "    \n",
    "    weight_list = []\n",
    "    processes = []\n",
    "\n",
    "    # Execute all subprocesses and save outputs into files\n",
    "    for i in range(40):\n",
    "        \n",
    "        # Generate Random weights\n",
    "        WEIGHT_RED_TO_ACTOR = 10**random.uniform(-4, -2)\n",
    "        WEIGHT_RED_TO_GO_ON = 10**random.uniform(-4, -2)\n",
    "        WEIGHT_GREEN_BLUE_TO_ACTOR = 10**random.uniform(-4, -2)\n",
    "        WEIGHT_GO_ON_TO_RIGHT_ACTOR = 10**random.uniform(-4, -2)\n",
    "\n",
    "        filename = \"output/log\" + str(i) + \".txt\"\n",
    "        with open(filename, \"w\") as file:\n",
    "            sp = subprocess.Popen(['python', 'OptimizationJob.py', str(WEIGHT_RED_TO_ACTOR), str(WEIGHT_RED_TO_GO_ON), str(WEIGHT_GREEN_BLUE_TO_ACTOR), str(WEIGHT_GO_ON_TO_RIGHT_ACTOR)], stdout=file)\n",
    "            processes.append( sp ) \n",
    "            \n",
    "        weight_list.append([WEIGHT_RED_TO_ACTOR, WEIGHT_RED_TO_GO_ON, WEIGHT_GREEN_BLUE_TO_ACTOR, WEIGHT_GO_ON_TO_RIGHT_ACTOR])\n",
    "            \n",
    "    # Wait until all processes are finished\n",
    "    while isFinished(processes) == False:\n",
    "        time.sleep(0.5)\n",
    "    \n",
    "    # Read outputs\n",
    "    for i in range(40):\n",
    "\n",
    "        with open(\"output/log\" + str(i) + \".txt\") as file:\n",
    "            filetext = file.read()\n",
    "\n",
    "            # Find fitness value through regex\n",
    "            matches = re.findall(\"(.*[^=])=(.*)\", filetext)\n",
    "            error = float(matches[0][1])\n",
    "\n",
    "            if error < error_min:\n",
    "                error_min = error\n",
    "                print(weight_list[i])\n",
    "                print(error)\n",
    "\n",
    "    # Time measurement\n",
    "    end = time.time()\n",
    "    \n",
    "    # Ausgabe\n",
    "    print('Time taken in seconds -', end - start)\n",
    "    \n",
    "    \n",
    "print(\"Finished\")"
   ]
  },
  {
   "cell_type": "markdown",
   "metadata": {},
   "source": [
    "### Time measurement\n",
    "\n",
    "| Number of subprocesses   |  Elapsed Time   |  Elapsed Time per subprocess  |\n",
    "|--------------------------|-----------------|-------------------------------|\n",
    "| 1                        |    39.06 s      |         39.06 s               |\n",
    "| 5                        |    42.63 s      |          8.52 s               |\n",
    "| 10                       |    44.72 s      |          4.47 s               |\n",
    "| 20                       |    49.58 s      |          2.48 s               |\n",
    "| 30                       |    66.34 s      |          2.21 s               |\n",
    "| 40                       |    73.10 s      |          1.83 s               |\n",
    "| 50                       |    92.97 s      |          1.86 s               |\n",
    "| 80                       |   149.80 s      |          1.87 s               |\n",
    "|100                       |   188.15 s      |          1.88 s               |\n",
    "|200                       |   382.65 s      |          1.91 s               |\n",
    "|300                       |   592.33 s      |          1.97 s               |\n",
    "|500                       |   993.66 s      |          1.99 s               |\n",
    "|800                       |  1599.73 s      |          1.99 s               |"
   ]
  }
 ],
 "metadata": {
  "kernelspec": {
   "display_name": "Python 3",
   "language": "python",
   "name": "python3"
  },
  "language_info": {
   "codemirror_mode": {
    "name": "ipython",
    "version": 3
   },
   "file_extension": ".py",
   "mimetype": "text/x-python",
   "name": "python",
   "nbconvert_exporter": "python",
   "pygments_lexer": "ipython3",
   "version": "3.7.3"
  }
 },
 "nbformat": 4,
 "nbformat_minor": 4
}
