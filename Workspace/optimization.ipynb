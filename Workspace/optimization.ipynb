{
 "cells": [
  {
   "cell_type": "markdown",
   "metadata": {},
   "source": [
    "# Neurorobotics with PyNN and PyBullet\n",
    "\n",
    "In this Notebook we will build and execute a neuro-robotics experiment. Für the neural simulation we will use [PyNN](https://neuralensemble.org/PyNN/) and [Nest](https://www.nest-initiative.org/?page=Software). For the simulation of the physic we use [PyBullet](https://github.com/bulletphysics/bullet3/tree/master/examples/pybullet). \n",
    "\n",
    "This experiment is a re-creation of the [braitenberg-husky-experiment](https://bitbucket.org/hbpneurorobotics/experiments/src/development/braitenberg_husky/) in the neurorobotics plattform of the human brain project. "
   ]
  },
  {
   "cell_type": "markdown",
   "metadata": {},
   "source": [
    "We start by importing all modules we will use in this notebook. Make sure to install only python**3**-versions of all dependencies. \n",
    "\n",
    "You can not just install these via pip:\n",
    "\n",
    "- _pybullet_ needs to be installed from source to get numpy-support. Otherwise it will be slower, and getCameraImage doesn't return a numpy-array. \n",
    "- _nest_ can only be installed from source. We must use version 2.16, because the current master is not yet compatible with _pynn_. Also _nest_ is compiled with _libnreuosim_, which needs a workaround until [the PR](https://github.com/nest/nest-simulator/pull/1235) is merged. I'm not 100% certain if _libneurosim_ is even required for this project, but _nest_ gives a warning if it's missing, so we will install it. \n",
    "- there is a warning \"UserWarning: Unable to install NEST extensions. Certain models may not be available\", which doesn't seem to affect this project. Please ignore it. "
   ]
  },
  {
   "cell_type": "code",
   "execution_count": 1,
   "metadata": {},
   "outputs": [
    {
     "name": "stderr",
     "output_type": "stream",
     "text": [
      "/opt/conda/lib/python3.7/site-packages/pyNN/nest/__init__.py:55: UserWarning: Unable to install NEST extensions. Certain models may not be available.\n",
      "Further details: DynamicModuleManagementError in Install: Module 'pynn_extensions' could not be opened.\n",
      "The dynamic loader returned the following error: 'file not found'.\n",
      "\n",
      "Please check LD_LIBRARY_PATH (OSX: DYLD_LIBRARY_PATH)!\n",
      "  warnings.warn(\"Unable to install NEST extensions. Certain models may not be available.\\nFurther details: {}\".format(err))\n"
     ]
    }
   ],
   "source": [
    "import time\n",
    "import numpy as np\n",
    "\n",
    "import pyNN.nest as brain_sim\n",
    "import csv\n",
    "\n",
    "from matplotlib import pyplot as plt\n",
    "from matplotlib import animation\n",
    "from pyNN.utility.plotting import Figure, Panel\n",
    "from quantities import mV"
   ]
  },
  {
   "cell_type": "markdown",
   "metadata": {},
   "source": [
    "### brain sim mit pynn\n",
    "\n",
    "first we define the population in pynn. This code is copied from [braitenberg.py on hbpneurorobotics](https://bitbucket.org/hbpneurorobotics/models/src/development/brains/braitenberg.py)"
   ]
  },
  {
   "cell_type": "code",
   "execution_count": 2,
   "metadata": {},
   "outputs": [],
   "source": [
    "class brain(object):\n",
    "    \n",
    "    def __init__(self): \n",
    "        sim = brain_sim\n",
    "        SENSORPARAMS = {'v_rest': -60.5,\n",
    "                        'cm': 0.025,\n",
    "                        'tau_m': 10.,\n",
    "                        'tau_refrac': 10.0,\n",
    "                        'tau_syn_E': 2.5,\n",
    "                        'tau_syn_I': 2.5,\n",
    "                        'e_rev_E': 0.0,\n",
    "                        'e_rev_I': -75.0,\n",
    "                        'v_thresh': -60.0,\n",
    "                        'v_reset': -60.5}\n",
    "\n",
    "        GO_ON_PARAMS = {'v_rest': -60.5,\n",
    "                        'cm': 0.025,\n",
    "                        'tau_m': 10.0,\n",
    "                        'e_rev_E': 0.0,\n",
    "                        'e_rev_I': -75.0,\n",
    "                        'v_reset': -61.6,\n",
    "                        'v_thresh': -60.51,\n",
    "                        'tau_refrac': 10.0,\n",
    "                        'tau_syn_E': 2.5,\n",
    "                        'tau_syn_I': 2.5}\n",
    "\n",
    "        self.population = sim.Population(8, sim.IF_cond_alpha())\n",
    "        self.population[0:5].set(**SENSORPARAMS)\n",
    "        self.population[5:6].set(**GO_ON_PARAMS)\n",
    "        self.population[6:8].set(**SENSORPARAMS)\n",
    "\n",
    "        syn_params = {'U': 1.0, 'tau_rec': 1.0, 'tau_facil': 1.0}\n",
    "\n",
    "        # Synaptic weights originale\n",
    "        WEIGHT_RED_TO_ACTOR = 1.5e-4\n",
    "        WEIGHT_RED_TO_GO_ON = 1.2e-3  # or -1.2e-3?\n",
    "        WEIGHT_GREEN_BLUE_TO_ACTOR = 1.05e-4\n",
    "        WEIGHT_GO_ON_TO_RIGHT_ACTOR = 1.4e-4\n",
    "        DELAY = 1\n",
    "\n",
    "        # Connect neurons\n",
    "        CIRCUIT = self.population\n",
    "\n",
    "        SYN = sim.TsodyksMarkramSynapse(weight=abs(WEIGHT_RED_TO_ACTOR),\n",
    "                                        delay=DELAY, **syn_params)\n",
    "        self._p1 = sim.Projection(presynaptic_population=CIRCUIT[2:3], \n",
    "                       postsynaptic_population=CIRCUIT[7:8],\n",
    "                       connector=sim.AllToAllConnector(),\n",
    "                       synapse_type=SYN,\n",
    "                       receptor_type='excitatory')\n",
    "        self._p2 = sim.Projection(presynaptic_population=CIRCUIT[3:4],\n",
    "                       postsynaptic_population=CIRCUIT[6:7],\n",
    "                       connector=sim.AllToAllConnector(),\n",
    "                       synapse_type=SYN,\n",
    "                       receptor_type='excitatory')\n",
    "\n",
    "\n",
    "        SYN = sim.TsodyksMarkramSynapse(weight=abs(WEIGHT_RED_TO_GO_ON),\n",
    "                                        delay=DELAY, **syn_params)\n",
    "        self._p3 = sim.Projection(presynaptic_population=CIRCUIT[0:2],\n",
    "                       postsynaptic_population=CIRCUIT[4:5],\n",
    "                       connector=sim.AllToAllConnector(),\n",
    "                       synapse_type=SYN,\n",
    "                       receptor_type='inhibitory')\n",
    "        self._p4 = sim.Projection(presynaptic_population=CIRCUIT[0:2],\n",
    "                       postsynaptic_population=CIRCUIT[5:6],\n",
    "                       connector=sim.AllToAllConnector(),\n",
    "                       synapse_type=SYN,\n",
    "                       receptor_type='inhibitory')\n",
    "\n",
    "        SYN = sim.TsodyksMarkramSynapse(weight=abs(WEIGHT_GREEN_BLUE_TO_ACTOR),\n",
    "                                        delay=DELAY, **syn_params)\n",
    "        self._p5 = sim.Projection(presynaptic_population=CIRCUIT[4:5],\n",
    "                       postsynaptic_population=CIRCUIT[7:8],\n",
    "                       connector=sim.AllToAllConnector(),\n",
    "                       synapse_type=SYN,\n",
    "                       receptor_type='excitatory')\n",
    "\n",
    "        SYN = sim.TsodyksMarkramSynapse(weight=abs(WEIGHT_GO_ON_TO_RIGHT_ACTOR),\n",
    "                                        delay=DELAY, **syn_params)\n",
    "        self._p6 = sim.Projection(presynaptic_population=CIRCUIT[5:6],\n",
    "                       postsynaptic_population=CIRCUIT[7:8],\n",
    "                       connector=sim.AllToAllConnector(),\n",
    "                       synapse_type=SYN,\n",
    "                       receptor_type='excitatory')\n",
    "\n",
    "    def get_pop(self):  \n",
    "        return self.population   \n",
    "    \n",
    "    def get_weights(self):\n",
    "        w1 = self._p1.get('weight', format='array')\n",
    "        w2 = self._p2.get('weight', format='array')\n",
    "        w3 = self._p3.get('weight', format='array')\n",
    "        w4 = self._p4.get('weight', format='array')\n",
    "        w5 = self._p5.get('weight', format='array')\n",
    "        w6 = self._p6.get('weight', format='array')\n",
    "        \n",
    "        return w1, w2, w3, w4, w5, w6\n",
    "    \n",
    "    def set_weights(self, WEIGHT_RED_TO_ACTOR, WEIGHT_RED_TO_GO_ON, WEIGHT_GREEN_BLUE_TO_ACTOR, WEIGHT_GO_ON_TO_RIGHT_ACTOR):\n",
    "        self._p1.set(weight=WEIGHT_RED_TO_ACTOR)\n",
    "        self._p2.set(weight=WEIGHT_RED_TO_ACTOR)\n",
    "        self._p3.set(weight=WEIGHT_RED_TO_GO_ON)\n",
    "        self._p4.set(weight=WEIGHT_RED_TO_GO_ON)\n",
    "        self._p5.set(weight=WEIGHT_GREEN_BLUE_TO_ACTOR)\n",
    "        self._p6.set(weight=WEIGHT_GO_ON_TO_RIGHT_ACTOR)\n",
    "\n",
    "        \n",
    "        "
   ]
  },
  {
   "cell_type": "markdown",
   "metadata": {},
   "source": [
    "next we set up the input for the population. For this we create two poisson spike generators and hook them up to the population according to original project. The values for the projections come from in the first 6 lines of [this file](https://bitbucket.org/hbpneurorobotics/experiments/src/development/braitenberg_husky/eye_sensor_transmit.py) and the parameters for the new neurons come are the [default values for PoissonSpikeGenerators](https://bitbucket.org/hbpneurorobotics/cle/src/development/hbp_nrp_cle/hbp_nrp_cle/brainsim/pynn/devices/__PyNNPoissonSpikeGenerator.py)"
   ]
  },
  {
   "cell_type": "code",
   "execution_count": 3,
   "metadata": {},
   "outputs": [],
   "source": [
    "class SpikeGenerator(object):\n",
    "    \"\"\"the class handles the input for the brain\"\"\"\n",
    "    \n",
    "    def __init__(self, population, interval=20.0, count_red_left=1/3, count_red_right=1/3, count_non_red=1/3):\n",
    "        params_source=  {'start': 0.0, 'duration': float(\"inf\"), 'rate': 0.0}\n",
    "        params_connec= {'weight':0.00015, 'receptor_type':'excitatory','delay':0.1}\n",
    "        self.ssp_red_left_eye = brain_sim.create(brain_sim.SpikeSourcePoisson,  params_source)\n",
    "        self.ssp_red_right_eye = brain_sim.create(brain_sim.SpikeSourcePoisson,  params_source)\n",
    "        self.ssp_green_blue_eye = brain_sim.create(brain_sim.SpikeSourcePoisson,  params_source)\n",
    "        brain_sim.connect(self.ssp_red_left_eye, population[slice(0, 3, 2)], **params_connec)\n",
    "        brain_sim.connect(self.ssp_red_right_eye, population[slice(1, 4, 2)], **params_connec)\n",
    "        brain_sim.connect(self.ssp_green_blue_eye, population[4], **params_connec)\n",
    "        \n",
    "    def set_rates_from_ratios(self, red_left_rate, red_right_rate, non_red_rate):\n",
    "        try:\n",
    "            self.ssp_red_left_eye.set(rate=red_left_rate)\n",
    "            self.ssp_red_right_eye.set(rate=red_right_rate)\n",
    "            self.ssp_green_blue_eye.set(rate=non_red_rate)\n",
    "        except StopIteration:\n",
    "            pass"
   ]
  },
  {
   "cell_type": "markdown",
   "metadata": {},
   "source": [
    "the next class handles the output of the brain. It connects two leaky-integrator neurons tp the output-neurons to convert their spikes into voltages, which we will measure. \n",
    "        \n",
    "        \n",
    "The parameters for these Neurons come from [defaults](https://bitbucket.org/hbpneurorobotics/cle/src/aff5aa918fdb6a07cb1ede3112f662ed679fccc4/hbp_nrp_cle/hbp_nrp_cle/brainsim/pynn/devices/__PyNNLeakyIntegratorTypes.py#lines-44), again. The connection to the population come from [line 10 and 11 of this file from the original experiment](https://bitbucket.org/hbpneurorobotics/experiments/src/d6e01275e51e0db8fc341bfe5873cb805d4c5c44/braitenberg_husky/braitenberg_husky_linear_twist.py#lines-10)\n"
   ]
  },
  {
   "cell_type": "code",
   "execution_count": 4,
   "metadata": {},
   "outputs": [],
   "source": [
    "class OutputGenerator(object):\n",
    "    def __init__(self, population):\n",
    "        LI_create = {'v_thresh': float('inf'),'cm': 1.0,'tau_m': 10.0,'tau_syn_E': 2.,\n",
    "            'tau_syn_I': 2.,'v_rest': 0.0,'v_reset': 0.0,'tau_refrac': 0.1,}\n",
    "        LI_connect = {'weight':0.00015, 'receptor_type':'excitatory','delay':0.1}\n",
    "        self.left = brain_sim.create(brain_sim.IF_curr_alpha, LI_create)\n",
    "        self.right = brain_sim.create(brain_sim.IF_curr_alpha, LI_create)\n",
    "        brain_sim.connect(population[6], self.left, **LI_connect)\n",
    "        brain_sim.connect(population[7], self.right,  **LI_connect)\n",
    "        brain_sim.initialize(self.left, v=self.left.get('v_rest'))\n",
    "        brain_sim.initialize(self.right, v=self.right.get('v_rest'))\n",
    "        self.left.record('v')\n",
    "        self.right.record('v')\n",
    "    \n",
    "    def get_current_voltage(self):\n",
    "        return self._get_current_voltage(self.left), self._get_current_voltage(self.right)\n",
    "    \n",
    "    def _get_current_voltage(self, cell):\n",
    "        return cell.get_data('v', clear=True).segments[0].filter(name=\"v\")[0][-1,0].item()"
   ]
  },
  {
   "cell_type": "markdown",
   "metadata": {},
   "source": [
    "# Import csv to list"
   ]
  },
  {
   "cell_type": "code",
   "execution_count": 5,
   "metadata": {},
   "outputs": [],
   "source": [
    "with open('output1.csv', 'r') as f:\n",
    "    reader = csv.reader(f)\n",
    "    logging_information_list = list(reader)\n",
    "\n",
    "# Convert to numpy array \n",
    "logging_information = np.asarray(logging_information_list, dtype=np.double)"
   ]
  },
  {
   "cell_type": "markdown",
   "metadata": {},
   "source": [
    "# Run experiment\n",
    "\n",
    "now that we have defined everything we need, lets boot up experiment.\n",
    "\n",
    "We will work with synchronized timesteps in both the brain simulation and the physics simulation. The default in bullet is [1ms](https://github.com/bulletphysics/bullet3/blob/d220101c5aad92cf7013710b0ed011395cabbb23/examples/pybullet/pybullet.c#L3001). We will be much slower than the defaults. On one hand we only need to update our inputs only a couple of times per seconds. On the other hand the rendering of the robot-images and the updating of the motor-input takes up a significant amount of processing. \n",
    "\n",
    "if the timesteps are too short, the simulation is very slow. If the timesteps are too long, the robot won't notice the red-area until it's too late. "
   ]
  },
  {
   "cell_type": "code",
   "execution_count": 6,
   "metadata": {},
   "outputs": [],
   "source": [
    "timestep_ms = 7"
   ]
  },
  {
   "cell_type": "markdown",
   "metadata": {},
   "source": [
    "#### initialize the brain simulation \n",
    "\n",
    "Note: the _timestep_ variable in brain_sim.setup() referes to the internal timesteps, and not to the external kind "
   ]
  },
  {
   "cell_type": "code",
   "execution_count": 7,
   "metadata": {},
   "outputs": [],
   "source": [
    "brain_sim.setup(timestep=0.1,min_delay=0.1,max_delay=4.0)\n",
    "b = brain()\n",
    "population=b.get_pop()\n",
    "brain_sim.initialize(population, v=population.get('v_rest'))\n",
    "spike_generator = SpikeGenerator(population)\n",
    "output_generator = OutputGenerator(population)"
   ]
  },
  {
   "cell_type": "markdown",
   "metadata": {},
   "source": [
    "#### run experiment\n",
    "\n",
    "and now lets to a single step of the simulation. We wrap it in a function, so we can repeat the step at later points. \n",
    "\n",
    "Each step does the following: \n",
    "\n",
    "1. do a single step in the physics simulation\n",
    "2. extract an image from the robot's camera\n",
    "3. use that image to set the input for the brain simulation\n",
    "4. do a single step in the brain simulation\n",
    "5. extract the output from the brain\n",
    "6. use that output to set motor-controls for the robot\n",
    "7. return extracted image and voltages\n",
    "\n",
    "the returned values may later be used to visualize what's happening. "
   ]
  },
  {
   "cell_type": "code",
   "execution_count": 8,
   "metadata": {},
   "outputs": [],
   "source": [
    "def step(*ratio):\n",
    "    \n",
    "    # Set the rates from the image\n",
    "    spike_generator.set_rates_from_ratios(*ratio)\n",
    "    \n",
    "    # Run one step in the brain simulation\n",
    "    brain_sim.run(timestep_ms)\n",
    "        \n",
    "    # Get the current voltage of the output neurons\n",
    "    voltage_left, voltage_right = output_generator.get_current_voltage() #10ms    \n",
    "    \n",
    "    return voltage_left, voltage_right"
   ]
  },
  {
   "cell_type": "code",
   "execution_count": 9,
   "metadata": {},
   "outputs": [
    {
     "name": "stdout",
     "output_type": "stream",
     "text": [
      "0.0\n",
      "0.0\n"
     ]
    }
   ],
   "source": [
    "output = []\n",
    "voltage_left_error = 0\n",
    "voltage_right_error = 0\n",
    "\n",
    "for row in logging_information:\n",
    "    \n",
    "    # Get logging information from csv file\n",
    "    age, voltage_left1, voltage_right1, red_left_rate, red_right_rate, non_red_rate = row\n",
    "    \n",
    "    # Simulate\n",
    "    voltage_left2, voltage_right2 = step(red_left_rate, red_right_rate, non_red_rate)\n",
    "    \n",
    "    # Calculate errors\n",
    "    voltage_left_diff = abs(voltage_left2 - voltage_left1)\n",
    "    voltage_left_error += voltage_left_diff\n",
    "    voltage_right_diff = abs(voltage_right2 - voltage_right1)\n",
    "    voltage_right_error += voltage_right_diff\n",
    "    \n",
    "    # Write into output array\n",
    "    output.append([voltage_left2, voltage_right2])\n",
    "    \n",
    "print(voltage_left_error)\n",
    "print(voltage_right_error)"
   ]
  },
  {
   "cell_type": "markdown",
   "metadata": {},
   "source": [
    "# Save Array"
   ]
  },
  {
   "cell_type": "code",
   "execution_count": 10,
   "metadata": {},
   "outputs": [],
   "source": [
    "with open(\"output2.csv\", \"w\") as f:\n",
    "    writer = csv.writer(f)\n",
    "    writer.writerows(output)"
   ]
  },
  {
   "cell_type": "code",
   "execution_count": 11,
   "metadata": {},
   "outputs": [
    {
     "name": "stdout",
     "output_type": "stream",
     "text": [
      "(array([[0.00015]]), array([[0.00015]]), array([[0.0012],\n",
      "       [0.0012]]), array([[0.0012],\n",
      "       [0.0012]]), array([[0.000105]]), array([[0.00014]]))\n"
     ]
    }
   ],
   "source": [
    "print(b.get_weights())"
   ]
  },
  {
   "cell_type": "code",
   "execution_count": 12,
   "metadata": {},
   "outputs": [],
   "source": [
    "b.set_weights(WEIGHT_RED_TO_ACTOR = 1.5e-2, WEIGHT_RED_TO_GO_ON = 1.2e-2, WEIGHT_GREEN_BLUE_TO_ACTOR = 1.05e-3, WEIGHT_GO_ON_TO_RIGHT_ACTOR = 1.4e-4)"
   ]
  },
  {
   "cell_type": "code",
   "execution_count": 13,
   "metadata": {},
   "outputs": [
    {
     "name": "stdout",
     "output_type": "stream",
     "text": [
      "(array([[0.015]]), array([[0.015]]), array([[0.012],\n",
      "       [0.012]]), array([[0.012],\n",
      "       [0.012]]), array([[0.00105]]), array([[0.00014]]))\n"
     ]
    }
   ],
   "source": [
    "print(b.get_weights())"
   ]
  },
  {
   "cell_type": "code",
   "execution_count": null,
   "metadata": {},
   "outputs": [],
   "source": []
  }
 ],
 "metadata": {
  "kernelspec": {
   "display_name": "Python 3",
   "language": "python",
   "name": "python3"
  },
  "language_info": {
   "codemirror_mode": {
    "name": "ipython",
    "version": 3
   },
   "file_extension": ".py",
   "mimetype": "text/x-python",
   "name": "python",
   "nbconvert_exporter": "python",
   "pygments_lexer": "ipython3",
   "version": "3.7.3"
  }
 },
 "nbformat": 4,
 "nbformat_minor": 4
}
