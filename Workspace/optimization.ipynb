{
 "cells": [
  {
   "cell_type": "markdown",
   "metadata": {},
   "source": [
    "# Neurorobotics with PyNN and PyBullet\n",
    "\n",
    "In this Notebook we will build and execute a neuro-robotics experiment. Für the neural simulation we will use [PyNN](https://neuralensemble.org/PyNN/) and [Nest](https://www.nest-initiative.org/?page=Software). For the simulation of the physic we use [PyBullet](https://github.com/bulletphysics/bullet3/tree/master/examples/pybullet). \n",
    "\n",
    "This experiment is a re-creation of the [braitenberg-husky-experiment](https://bitbucket.org/hbpneurorobotics/experiments/src/development/braitenberg_husky/) in the neurorobotics plattform of the human brain project. "
   ]
  },
  {
   "cell_type": "markdown",
   "metadata": {},
   "source": [
    "We start by importing all modules we will use in this notebook. Make sure to install only python**3**-versions of all dependencies. \n",
    "\n",
    "You can not just install these via pip:\n",
    "\n",
    "- _pybullet_ needs to be installed from source to get numpy-support. Otherwise it will be slower, and getCameraImage doesn't return a numpy-array. \n",
    "- _nest_ can only be installed from source. We must use version 2.16, because the current master is not yet compatible with _pynn_. Also _nest_ is compiled with _libnreuosim_, which needs a workaround until [the PR](https://github.com/nest/nest-simulator/pull/1235) is merged. I'm not 100% certain if _libneurosim_ is even required for this project, but _nest_ gives a warning if it's missing, so we will install it. \n",
    "- there is a warning \"UserWarning: Unable to install NEST extensions. Certain models may not be available\", which doesn't seem to affect this project. Please ignore it. "
   ]
  },
  {
   "cell_type": "code",
   "execution_count": 1,
   "metadata": {},
   "outputs": [],
   "source": [
    "import time\n",
    "import numpy as np\n",
    "import csv\n",
    "\n",
    "import subprocess\n",
    "import re\n",
    "\n",
    "from matplotlib import pyplot as plt\n",
    "from matplotlib import animation\n",
    "from pyNN.utility.plotting import Figure, Panel\n",
    "from quantities import mV"
   ]
  },
  {
   "cell_type": "code",
   "execution_count": 2,
   "metadata": {},
   "outputs": [],
   "source": [
    "def isFinished(processes):\n",
    "    \n",
    "    for process in processes:\n",
    "        if(process.poll() == None):\n",
    "            return False\n",
    "    \n",
    "    return True"
   ]
  },
  {
   "cell_type": "code",
   "execution_count": 3,
   "metadata": {},
   "outputs": [
    {
     "name": "stdout",
     "output_type": "stream",
     "text": [
      "Starting\n"
     ]
    },
    {
     "ename": "KeyboardInterrupt",
     "evalue": "",
     "output_type": "error",
     "traceback": [
      "\u001b[0;31m---------------------------------------------------------------------------\u001b[0m",
      "\u001b[0;31mKeyboardInterrupt\u001b[0m                         Traceback (most recent call last)",
      "\u001b[0;32m<ipython-input-3-621e7e593866>\u001b[0m in \u001b[0;36m<module>\u001b[0;34m\u001b[0m\n\u001b[1;32m     20\u001b[0m     \u001b[0;31m# Wait until all processes are finished\u001b[0m\u001b[0;34m\u001b[0m\u001b[0;34m\u001b[0m\u001b[0;34m\u001b[0m\u001b[0m\n\u001b[1;32m     21\u001b[0m     \u001b[0;32mwhile\u001b[0m \u001b[0misFinished\u001b[0m\u001b[0;34m(\u001b[0m\u001b[0mprocesses\u001b[0m\u001b[0;34m)\u001b[0m \u001b[0;34m==\u001b[0m \u001b[0;32mFalse\u001b[0m\u001b[0;34m:\u001b[0m\u001b[0;34m\u001b[0m\u001b[0;34m\u001b[0m\u001b[0m\n\u001b[0;32m---> 22\u001b[0;31m         \u001b[0mtime\u001b[0m\u001b[0;34m.\u001b[0m\u001b[0msleep\u001b[0m\u001b[0;34m(\u001b[0m\u001b[0;36m0.5\u001b[0m\u001b[0;34m)\u001b[0m\u001b[0;34m\u001b[0m\u001b[0;34m\u001b[0m\u001b[0m\n\u001b[0m\u001b[1;32m     23\u001b[0m \u001b[0;34m\u001b[0m\u001b[0m\n\u001b[1;32m     24\u001b[0m     \u001b[0;31m# Read outputs\u001b[0m\u001b[0;34m\u001b[0m\u001b[0;34m\u001b[0m\u001b[0;34m\u001b[0m\u001b[0m\n",
      "\u001b[0;31mKeyboardInterrupt\u001b[0m: "
     ]
    }
   ],
   "source": [
    "output_min = []\n",
    "error_min =200\n",
    "processes = []\n",
    "\n",
    "# Number of subprocesses\n",
    "N_list = [1, 5, 10, 20, 25, 30, 35, 40, 45, 50, 55, 60, 80, 100, 200, 300, 500, 800, 1000]\n",
    "\n",
    "print(\"Starting\")\n",
    "\n",
    "for N in N_list:\n",
    "    start = time.time()\n",
    "\n",
    "    # Execute all subprocesses and save outputs into files\n",
    "    for i in range(N):\n",
    "\n",
    "        filename = \"output/log\" + str(i) + \".txt\"\n",
    "        with open(filename, \"w\") as file:\n",
    "            processes.append( subprocess.Popen(['python', 'OptimizationJob.py'], stdout=file) ) \n",
    "\n",
    "    # Wait until all processes are finished\n",
    "    while isFinished(processes) == False:\n",
    "        time.sleep(0.5)\n",
    "    \n",
    "    # Read outputs\n",
    "    for i in range(N):\n",
    "\n",
    "        with open(\"output/log\" + str(i) + \".txt\") as file:\n",
    "            filetext = file.read()\n",
    "\n",
    "            # Find fitness value through regex\n",
    "            matches = re.findall(\"(.*[^=])=(.*)\", filetext)\n",
    "\n",
    "            error = float(matches[0][1])\n",
    "\n",
    "            if error < error_min:\n",
    "                error_min = error\n",
    "                print(file)\n",
    "                print(error)\n",
    "\n",
    "    # Time measurement\n",
    "    end = time.time()\n",
    "    \n",
    "    # Ausgabe\n",
    "    print('Numer of Subprocesses', N)\n",
    "    print('Time taken in seconds -', end - start)\n",
    "    print('Time taken per Subprocess -', (end - start)/N )\n",
    "    \n",
    "    \n",
    "print(\"Finished\")"
   ]
  },
  {
   "cell_type": "markdown",
   "metadata": {},
   "source": [
    "### Time measurement\n",
    "\n",
    "| Number of subprocesses   |  Elapsed Time   |  Elapsed Time per subprocess  |\n",
    "|--------------------------|-----------------|-------------------------------|\n",
    "| 1                        |    39.06 s      |         39.06 s               |\n",
    "| 5                        |    42.63 s      |          8.52 s               |\n",
    "| 10                       |    44.72 s      |          4.47 s               |\n",
    "| 20                       |    49.58 s      |          2.48 s               |\n",
    "| 30                       |    66.34 s      |          2.21 s               |\n",
    "| 40                       |    73.10 s      |          1.83 s               |\n",
    "| 50                       |    92.97 s      |          1.86 s               |\n",
    "| 80                       |   149.80 s      |          1.87 s               |\n",
    "|100                       |   188.15 s      |          1.88 s               |\n",
    "|200                       |   382.65 s      |          1.91 s               |\n",
    "|300                       |   592.33 s      |          1.97 s               |\n",
    "|500                       |   993.66 s      |          1.99 s               |\n",
    "|800                       |  1599.73 s      |          1.99 s               |"
   ]
  },
  {
   "cell_type": "markdown",
   "metadata": {},
   "source": [
    "# Save Array"
   ]
  },
  {
   "cell_type": "code",
   "execution_count": null,
   "metadata": {},
   "outputs": [],
   "source": [
    "with open(\"output2.csv\", \"w\") as f:\n",
    "    writer = csv.writer(f)\n",
    "    writer.writerows(output_min)"
   ]
  },
  {
   "cell_type": "code",
   "execution_count": 2,
   "metadata": {},
   "outputs": [
    {
     "name": "stdout",
     "output_type": "stream",
     "text": [
      "0.008147781206977378\n",
      "0.0031124483505225787\n",
      "0.00046263095495894326\n",
      "0.007547426769260767\n"
     ]
    }
   ],
   "source": [
    "import random\n",
    "\n",
    "# Generate Random numbers\n",
    "WEIGHT_RED_TO_ACTOR = 10**random.uniform(-4, -2)\n",
    "WEIGHT_RED_TO_GO_ON = 10**random.uniform(-4, -2)\n",
    "WEIGHT_GREEN_BLUE_TO_ACTOR = 10**random.uniform(-4, -2)\n",
    "WEIGHT_GO_ON_TO_RIGHT_ACTOR = 10**random.uniform(-4, -2)\n",
    "\n",
    "print(WEIGHT_RED_TO_ACTOR)\n",
    "print(WEIGHT_RED_TO_GO_ON)\n",
    "print(WEIGHT_GREEN_BLUE_TO_ACTOR)\n",
    "print(WEIGHT_GO_ON_TO_RIGHT_ACTOR)\n",
    "\n",
    "filename = \"output/test.txt\"\n",
    "with open(filename, \"w\") as file:\n",
    "    subprocess.Popen(['python', 'OptimizationJob.py', str(WEIGHT_RED_TO_ACTOR), str(WEIGHT_RED_TO_GO_ON), str(WEIGHT_GREEN_BLUE_TO_ACTOR), str(WEIGHT_GO_ON_TO_RIGHT_ACTOR)], stdout=file)"
   ]
  },
  {
   "cell_type": "code",
   "execution_count": null,
   "metadata": {},
   "outputs": [],
   "source": []
  }
 ],
 "metadata": {
  "kernelspec": {
   "display_name": "Python 3",
   "language": "python",
   "name": "python3"
  },
  "language_info": {
   "codemirror_mode": {
    "name": "ipython",
    "version": 3
   },
   "file_extension": ".py",
   "mimetype": "text/x-python",
   "name": "python",
   "nbconvert_exporter": "python",
   "pygments_lexer": "ipython3",
   "version": "3.7.3"
  }
 },
 "nbformat": 4,
 "nbformat_minor": 4
}
