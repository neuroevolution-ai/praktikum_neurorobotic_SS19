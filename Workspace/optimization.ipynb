{
 "cells": [
  {
   "cell_type": "markdown",
   "metadata": {},
   "source": [
    "# Neurorobotics with PyNN and PyBullet\n",
    "\n",
    "In this Notebook we will build and execute a neuro-robotics experiment. Für the neural simulation we will use [PyNN](https://neuralensemble.org/PyNN/) and [Nest](https://www.nest-initiative.org/?page=Software). For the simulation of the physic we use [PyBullet](https://github.com/bulletphysics/bullet3/tree/master/examples/pybullet). \n",
    "\n",
    "This experiment is a re-creation of the [braitenberg-husky-experiment](https://bitbucket.org/hbpneurorobotics/experiments/src/development/braitenberg_husky/) in the neurorobotics plattform of the human brain project. "
   ]
  },
  {
   "cell_type": "markdown",
   "metadata": {},
   "source": [
    "We start by importing all modules we will use in this notebook. Make sure to install only python**3**-versions of all dependencies. \n",
    "\n",
    "You can not just install these via pip:\n",
    "\n",
    "- _pybullet_ needs to be installed from source to get numpy-support. Otherwise it will be slower, and getCameraImage doesn't return a numpy-array. \n",
    "- _nest_ can only be installed from source. We must use version 2.16, because the current master is not yet compatible with _pynn_. Also _nest_ is compiled with _libnreuosim_, which needs a workaround until [the PR](https://github.com/nest/nest-simulator/pull/1235) is merged. I'm not 100% certain if _libneurosim_ is even required for this project, but _nest_ gives a warning if it's missing, so we will install it. \n",
    "- there is a warning \"UserWarning: Unable to install NEST extensions. Certain models may not be available\", which doesn't seem to affect this project. Please ignore it. "
   ]
  },
  {
   "cell_type": "code",
   "execution_count": 1,
   "metadata": {},
   "outputs": [],
   "source": [
    "import time\n",
    "import numpy as np\n",
    "import csv\n",
    "import random\n",
    "\n",
    "import subprocess\n",
    "import re\n",
    "\n",
    "from matplotlib import pyplot as plt\n",
    "from matplotlib import animation\n",
    "from pyNN.utility.plotting import Figure, Panel\n",
    "from quantities import mV"
   ]
  },
  {
   "cell_type": "code",
   "execution_count": 2,
   "metadata": {},
   "outputs": [],
   "source": [
    "def isFinished(processes):\n",
    "    \n",
    "    for process in processes:\n",
    "        if(process.poll() == None):\n",
    "            return False\n",
    "    \n",
    "    return True"
   ]
  },
  {
   "cell_type": "code",
   "execution_count": 3,
   "metadata": {},
   "outputs": [
    {
     "name": "stdout",
     "output_type": "stream",
     "text": [
      "Starting\n",
      "['261.34041305725606', '0.001504883510426827', '46.23787087963139', '130.2181077025043', '0.1767556019601011', '0.7961064195468438', '0.013236660144399918', '4.57952345241388']\n",
      "1.6103855407955052\n",
      "['49.7135280747339', '0.0007556014974569722', '18.472215791693465', '417.4003160554351', '1.1863778339556252', '3.135825725527796e-05', '7.745272000819369', '6.738756517265792e-05']\n",
      "1.5439414106831666\n",
      "['1.079215322563499e-05', '0.0028126853044296166', '50.89764859487136', '8.3948403345601', '0.00034382233306911507', '0.0004168449581905281', '7.390112298087331', '0.012065612868626664']\n",
      "1.5255471897720245\n",
      "['0.011083929028975353', '5.725338810417925e-05', '8.67529494254232', '64.63715796799788', '0.5599740533345419', '0.035187209272501546', '126.46496613609685', '3.46980311417372e-05']\n",
      "1.4496532944590168\n",
      "Time taken in seconds - 252.56341528892517\n",
      "['0.0067949495737044535', '0.01517198917759644', '14.022875700801363', '0.006755901493199507', '0.00019437571420171363', '28.47663566707407', '56.45869818847686', '1.7526007368947657e-05']\n",
      "1.3757066944661605\n",
      "Time taken in seconds - 251.97042226791382\n",
      "['0.0006546486149168087', '0.001109916081741163', '239.3634700823137', '0.00011526898881096962', '0.15335233529549572', '7.776650368311434e-05', '54.63384473267471', '0.05971665616874251']\n",
      "1.3547838100137437\n",
      "Time taken in seconds - 251.50125694274902\n",
      "Time taken in seconds - 254.18476462364197\n",
      "Time taken in seconds - 253.0017204284668\n",
      "Time taken in seconds - 252.02466464042664\n",
      "Time taken in seconds - 252.89699006080627\n",
      "Time taken in seconds - 253.67544627189636\n",
      "Time taken in seconds - 253.44331049919128\n",
      "Time taken in seconds - 254.5804841518402\n"
     ]
    },
    {
     "ename": "KeyboardInterrupt",
     "evalue": "",
     "output_type": "error",
     "traceback": [
      "\u001b[0;31m---------------------------------------------------------------------------\u001b[0m",
      "\u001b[0;31mKeyboardInterrupt\u001b[0m                         Traceback (most recent call last)",
      "\u001b[0;32m<ipython-input-3-b56eda7e5e09>\u001b[0m in \u001b[0;36m<module>\u001b[0;34m\u001b[0m\n\u001b[1;32m     35\u001b[0m     \u001b[0;31m# Wait until all processes are finished\u001b[0m\u001b[0;34m\u001b[0m\u001b[0;34m\u001b[0m\u001b[0;34m\u001b[0m\u001b[0m\n\u001b[1;32m     36\u001b[0m     \u001b[0;32mwhile\u001b[0m \u001b[0misFinished\u001b[0m\u001b[0;34m(\u001b[0m\u001b[0mprocesses\u001b[0m\u001b[0;34m)\u001b[0m \u001b[0;34m==\u001b[0m \u001b[0;32mFalse\u001b[0m\u001b[0;34m:\u001b[0m\u001b[0;34m\u001b[0m\u001b[0;34m\u001b[0m\u001b[0m\n\u001b[0;32m---> 37\u001b[0;31m         \u001b[0mtime\u001b[0m\u001b[0;34m.\u001b[0m\u001b[0msleep\u001b[0m\u001b[0;34m(\u001b[0m\u001b[0;36m0.5\u001b[0m\u001b[0;34m)\u001b[0m\u001b[0;34m\u001b[0m\u001b[0;34m\u001b[0m\u001b[0m\n\u001b[0m\u001b[1;32m     38\u001b[0m \u001b[0;34m\u001b[0m\u001b[0m\n\u001b[1;32m     39\u001b[0m     \u001b[0;31m# Read outputs\u001b[0m\u001b[0;34m\u001b[0m\u001b[0;34m\u001b[0m\u001b[0;34m\u001b[0m\u001b[0m\n",
      "\u001b[0;31mKeyboardInterrupt\u001b[0m: "
     ]
    }
   ],
   "source": [
    "output_min = []\n",
    "error_min = 200\n",
    "#number_params = 4\n",
    "number_params = 8\n",
    "\n",
    "print(\"Starting\")\n",
    "\n",
    "for N in range(20):\n",
    "    \n",
    "    # Start time measurement\n",
    "    start = time.time()\n",
    "    \n",
    "    weights_list = []\n",
    "    processes = []\n",
    "    \n",
    "    # Execute all subprocesses and save outputs into files\n",
    "    for i in range(40):\n",
    "        \n",
    "        # Generate Random weights\n",
    "        weights = []\n",
    "        for _ in range(number_params):\n",
    "            #weights.append( str(10**random.uniform(-4, -2)) ) \n",
    "            weights.append( str(10**random.uniform(-5, 3)) ) \n",
    "\n",
    "        # Spawn the subprocesses and write outputs into files\n",
    "        filename = \"temp/log\" + str(i) + \".txt\"\n",
    "        with open(filename, \"w\") as file:\n",
    "            command = ['python', 'OptimizationJob_BigBrain.py']\n",
    "            command.extend(weights)\n",
    "            processes.append( subprocess.Popen(command, stdout=file) ) \n",
    "            \n",
    "        # Append current weights to weights list\n",
    "        weights_list.append(weights)\n",
    "            \n",
    "    # Wait until all processes are finished\n",
    "    while isFinished(processes) == False:\n",
    "        time.sleep(0.5)\n",
    "    \n",
    "    # Read outputs\n",
    "    for i in range(40):\n",
    "\n",
    "        with open(\"temp/log\" + str(i) + \".txt\") as file:\n",
    "            filetext = file.read()\n",
    "\n",
    "            # Find fitness value through regex\n",
    "            matches = re.findall(\"(.*[^=])=(.*)\", filetext)\n",
    "            error = float(matches[0][1])\n",
    "\n",
    "            # A new minimum is found\n",
    "            if error < error_min:\n",
    "                error_min = error\n",
    "                print(weights_list[i])\n",
    "                print(error)\n",
    "\n",
    "    # Time measurement\n",
    "    end = time.time()\n",
    "    \n",
    "    # Ausgabe\n",
    "    print('Time taken in seconds -', end - start)\n",
    "    \n",
    "    \n",
    "print(\"Finished\")"
   ]
  },
  {
   "cell_type": "markdown",
   "metadata": {},
   "source": [
    "### Time measurement for small brain\n",
    "\n",
    "| Number of subprocesses   |  Elapsed Time   |  Elapsed Time per subprocess  |\n",
    "|--------------------------|-----------------|-------------------------------|\n",
    "| 1                        |    39.06 s      |         39.06 s               |\n",
    "| 5                        |    42.63 s      |          8.52 s               |\n",
    "| 10                       |    44.72 s      |          4.47 s               |\n",
    "| 20                       |    49.58 s      |          2.48 s               |\n",
    "| 30                       |    66.34 s      |          2.21 s               |\n",
    "| 40                       |    73.10 s      |          1.83 s               |\n",
    "| 50                       |    92.97 s      |          1.86 s               |\n",
    "| 80                       |   149.80 s      |          1.87 s               |\n",
    "|100                       |   188.15 s      |          1.88 s               |\n",
    "|200                       |   382.65 s      |          1.91 s               |\n",
    "|300                       |   592.33 s      |          1.97 s               |\n",
    "|500                       |   993.66 s      |          1.99 s               |\n",
    "|800                       |  1599.73 s      |          1.99 s               |"
   ]
  }
 ],
 "metadata": {
  "kernelspec": {
   "display_name": "Python 3",
   "language": "python",
   "name": "python3"
  },
  "language_info": {
   "codemirror_mode": {
    "name": "ipython",
    "version": 3
   },
   "file_extension": ".py",
   "mimetype": "text/x-python",
   "name": "python",
   "nbconvert_exporter": "python",
   "pygments_lexer": "ipython3",
   "version": "3.7.3"
  }
 },
 "nbformat": 4,
 "nbformat_minor": 4
}
