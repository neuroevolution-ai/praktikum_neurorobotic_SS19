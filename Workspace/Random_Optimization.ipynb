{
 "cells": [
  {
   "cell_type": "markdown",
   "metadata": {},
   "source": [
    "# Neurorobotics with PyNN and PyBullet\n",
    "\n",
    "In this Notebook we will build and execute a neuro-robotics experiment. Für the neural simulation we will use [PyNN](https://neuralensemble.org/PyNN/) and [Nest](https://www.nest-initiative.org/?page=Software). For the simulation of the physic we use [PyBullet](https://github.com/bulletphysics/bullet3/tree/master/examples/pybullet). \n",
    "\n",
    "This experiment is a re-creation of the [braitenberg-husky-experiment](https://bitbucket.org/hbpneurorobotics/experiments/src/development/braitenberg_husky/) in the neurorobotics plattform of the human brain project. "
   ]
  },
  {
   "cell_type": "markdown",
   "metadata": {},
   "source": [
    "We start by importing all modules we will use in this notebook. Make sure to install only python**3**-versions of all dependencies. \n",
    "\n",
    "You can not just install these via pip:\n",
    "\n",
    "- _pybullet_ needs to be installed from source to get numpy-support. Otherwise it will be slower, and getCameraImage doesn't return a numpy-array. \n",
    "- _nest_ can only be installed from source. We must use version 2.16, because the current master is not yet compatible with _pynn_. Also _nest_ is compiled with _libnreuosim_, which needs a workaround until [the PR](https://github.com/nest/nest-simulator/pull/1235) is merged. I'm not 100% certain if _libneurosim_ is even required for this project, but _nest_ gives a warning if it's missing, so we will install it. \n",
    "- there is a warning \"UserWarning: Unable to install NEST extensions. Certain models may not be available\", which doesn't seem to affect this project. Please ignore it. "
   ]
  },
  {
   "cell_type": "code",
   "execution_count": 1,
   "metadata": {},
   "outputs": [],
   "source": [
    "import time\n",
    "import numpy as np\n",
    "import csv\n",
    "import random\n",
    "\n",
    "import subprocess\n",
    "import re\n",
    "\n",
    "from matplotlib import pyplot as plt\n",
    "from matplotlib import animation\n",
    "from pyNN.utility.plotting import Figure, Panel\n",
    "from quantities import mV"
   ]
  },
  {
   "cell_type": "code",
   "execution_count": 2,
   "metadata": {},
   "outputs": [],
   "source": [
    "def isFinished(processes):\n",
    "    \n",
    "    for process in processes:\n",
    "        if(process.poll() == None):\n",
    "            return False\n",
    "    \n",
    "    return True"
   ]
  },
  {
   "cell_type": "code",
   "execution_count": 3,
   "metadata": {},
   "outputs": [
    {
     "name": "stdout",
     "output_type": "stream",
     "text": [
      "Starting\n",
      "['570.0308809139513', '0.09669200296988162', '0.9599832270799492', '3.3438245162895716e-05', '120.83823313318939', '3.6779739897150896', '0.20049371382800812', '7.44233858417996e-05']\n",
      "1.8505161483806634\n",
      "['170.09529093594887', '152.8743977577786', '0.0006320510995423669', '42.33463099103715', '11.517769418946848', '1.6165551955831918', '0.3153836221543736', '0.012213925256479028']\n",
      "1.8453810984922319\n",
      "['13.443274306464476', '0.13714375998793357', '0.029768886325137446', '0.005078858935536639', '0.0001948876051222712', '4.926939518264329', '260.48666952129327', '0.6700206412814903']\n",
      "1.657026811840161\n",
      "['3.174993271153038', '115.34890045061384', '18.18347969209679', '4.615220558588311e-05', '0.38905235777796093', '0.39080525966544943', '242.48995020655363', '0.0002016579780658747']\n",
      "1.6061361730714598\n",
      "Time taken in seconds - 252.9256100654602\n",
      "['0.0013781945124330395', '0.000486347209636169', '402.8345945035941', '0.038407771280169554', '359.51441534964647', '0.43360699441432515', '220.1515964835833', '996.4311952538177']\n",
      "1.5350991373675784\n",
      "['68.25958053846615', '0.47685736313834265', '5.278827206480084', '4.994695863298396', '2.7398939585582487', '0.2211419686909303', '141.19537270644886', '172.79569558375647']\n",
      "1.4571655202231428\n",
      "['353.86435027175486', '0.3364516181333779', '24.932351298370445', '0.0016710254125742456', '0.005948614821933161', '6.715015503667089e-05', '58.861271125938785', '3.9204192764427552']\n",
      "1.4138461041058097\n",
      "['1.6715075369530266', '4.850666308158911e-05', '0.4075509492729644', '680.8639805977181', '1.0189392434675991e-05', '0.00035942080025770466', '53.713547818925186', '5.6934475466164766e-05']\n",
      "1.4012472600717447\n",
      "Time taken in seconds - 251.92409682273865\n",
      "Time taken in seconds - 252.11437463760376\n",
      "Time taken in seconds - 253.72387981414795\n",
      "Time taken in seconds - 253.65371346473694\n",
      "Time taken in seconds - 252.107328414917\n",
      "['0.51309712726888', '0.0015347091831858703', '28.6663906576038', '6.902672692666827', '7.751774014243377', '0.002357153587010246', '60.43131685276599', '2.5738126664301384']\n",
      "1.387883450913998\n",
      "Time taken in seconds - 259.0529742240906\n",
      "Time taken in seconds - 260.0048940181732\n",
      "Time taken in seconds - 258.8671545982361\n",
      "Time taken in seconds - 259.9780638217926\n",
      "Time taken in seconds - 251.5980145931244\n",
      "Time taken in seconds - 254.0108470916748\n",
      "Time taken in seconds - 254.69118905067444\n",
      "Time taken in seconds - 251.99349808692932\n",
      "Time taken in seconds - 252.03320980072021\n"
     ]
    },
    {
     "ename": "KeyboardInterrupt",
     "evalue": "",
     "output_type": "error",
     "traceback": [
      "\u001b[0;31m---------------------------------------------------------------------------\u001b[0m",
      "\u001b[0;31mKeyboardInterrupt\u001b[0m                         Traceback (most recent call last)",
      "\u001b[0;32m<ipython-input-3-b56eda7e5e09>\u001b[0m in \u001b[0;36m<module>\u001b[0;34m\u001b[0m\n\u001b[1;32m     35\u001b[0m     \u001b[0;31m# Wait until all processes are finished\u001b[0m\u001b[0;34m\u001b[0m\u001b[0;34m\u001b[0m\u001b[0;34m\u001b[0m\u001b[0m\n\u001b[1;32m     36\u001b[0m     \u001b[0;32mwhile\u001b[0m \u001b[0misFinished\u001b[0m\u001b[0;34m(\u001b[0m\u001b[0mprocesses\u001b[0m\u001b[0;34m)\u001b[0m \u001b[0;34m==\u001b[0m \u001b[0;32mFalse\u001b[0m\u001b[0;34m:\u001b[0m\u001b[0;34m\u001b[0m\u001b[0;34m\u001b[0m\u001b[0m\n\u001b[0;32m---> 37\u001b[0;31m         \u001b[0mtime\u001b[0m\u001b[0;34m.\u001b[0m\u001b[0msleep\u001b[0m\u001b[0;34m(\u001b[0m\u001b[0;36m0.5\u001b[0m\u001b[0;34m)\u001b[0m\u001b[0;34m\u001b[0m\u001b[0;34m\u001b[0m\u001b[0m\n\u001b[0m\u001b[1;32m     38\u001b[0m \u001b[0;34m\u001b[0m\u001b[0m\n\u001b[1;32m     39\u001b[0m     \u001b[0;31m# Read outputs\u001b[0m\u001b[0;34m\u001b[0m\u001b[0;34m\u001b[0m\u001b[0;34m\u001b[0m\u001b[0m\n",
      "\u001b[0;31mKeyboardInterrupt\u001b[0m: "
     ]
    }
   ],
   "source": [
    "output_min = []\n",
    "error_min = 200\n",
    "#number_params = 4\n",
    "number_params = 8\n",
    "\n",
    "print(\"Starting\")\n",
    "\n",
    "for N in range(200):\n",
    "    \n",
    "    # Start time measurement\n",
    "    start = time.time()\n",
    "    \n",
    "    weights_list = []\n",
    "    processes = []\n",
    "    \n",
    "    # Execute all subprocesses and save outputs into files\n",
    "    for i in range(40):\n",
    "        \n",
    "        # Generate Random weights\n",
    "        weights = []\n",
    "        for _ in range(number_params):\n",
    "            #weights.append( str(10**random.uniform(-4, -2)) ) \n",
    "            weights.append( str(10**random.uniform(-5, 3)) ) \n",
    "\n",
    "        # Spawn the subprocesses and write outputs into files\n",
    "        filename = \"temp/log\" + str(i) + \".txt\"\n",
    "        with open(filename, \"w\") as file:\n",
    "            command = ['python', 'OptimizationJob_BigBrain.py']\n",
    "            command.extend(weights)\n",
    "            processes.append( subprocess.Popen(command, stdout=file) ) \n",
    "            \n",
    "        # Append current weights to weights list\n",
    "        weights_list.append(weights)\n",
    "            \n",
    "    # Wait until all processes are finished\n",
    "    while isFinished(processes) == False:\n",
    "        time.sleep(0.5)\n",
    "    \n",
    "    # Read outputs\n",
    "    for i in range(40):\n",
    "\n",
    "        with open(\"temp/log\" + str(i) + \".txt\") as file:\n",
    "            filetext = file.read()\n",
    "\n",
    "            # Find fitness value through regex\n",
    "            matches = re.findall(\"(.*[^=])=(.*)\", filetext)\n",
    "            error = float(matches[0][1])\n",
    "\n",
    "            # A new minimum is found\n",
    "            if error < error_min:\n",
    "                error_min = error\n",
    "                print(weights_list[i])\n",
    "                print(error)\n",
    "\n",
    "    # Time measurement\n",
    "    end = time.time()\n",
    "    \n",
    "    # Ausgabe\n",
    "    print('Time taken in seconds -', end - start)\n",
    "    \n",
    "    \n",
    "print(\"Finished\")"
   ]
  },
  {
   "cell_type": "markdown",
   "metadata": {},
   "source": [
    "### Time measurement for small brain\n",
    "\n",
    "| Number of subprocesses   |  Elapsed Time   |  Elapsed Time per subprocess  |\n",
    "|--------------------------|-----------------|-------------------------------|\n",
    "| 1                        |    39.06 s      |         39.06 s               |\n",
    "| 5                        |    42.63 s      |          8.52 s               |\n",
    "| 10                       |    44.72 s      |          4.47 s               |\n",
    "| 20                       |    49.58 s      |          2.48 s               |\n",
    "| 30                       |    66.34 s      |          2.21 s               |\n",
    "| 40                       |    73.10 s      |          1.83 s               |\n",
    "| 50                       |    92.97 s      |          1.86 s               |\n",
    "| 80                       |   149.80 s      |          1.87 s               |\n",
    "|100                       |   188.15 s      |          1.88 s               |\n",
    "|200                       |   382.65 s      |          1.91 s               |\n",
    "|300                       |   592.33 s      |          1.97 s               |\n",
    "|500                       |   993.66 s      |          1.99 s               |\n",
    "|800                       |  1599.73 s      |          1.99 s               |"
   ]
  }
 ],
 "metadata": {
  "kernelspec": {
   "display_name": "Python 3",
   "language": "python",
   "name": "python3"
  },
  "language_info": {
   "codemirror_mode": {
    "name": "ipython",
    "version": 3
   },
   "file_extension": ".py",
   "mimetype": "text/x-python",
   "name": "python",
   "nbconvert_exporter": "python",
   "pygments_lexer": "ipython3",
   "version": "3.7.3"
  }
 },
 "nbformat": 4,
 "nbformat_minor": 4
}
